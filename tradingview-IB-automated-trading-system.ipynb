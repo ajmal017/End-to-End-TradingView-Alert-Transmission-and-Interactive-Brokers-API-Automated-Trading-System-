{
 "cells": [
  {
   "cell_type": "code",
   "execution_count": null,
   "metadata": {
    "scrolled": true
   },
   "outputs": [
    {
     "name": "stdout",
     "output_type": "stream",
     "text": [
      " * Serving Flask app \"__main__\" (lazy loading)\n",
      " * Environment: production\n",
      "   WARNING: This is a development server. Do not use it in a production deployment.\n",
      "   Use a production WSGI server instead.\n",
      " * Debug mode: off\n"
     ]
    },
    {
     "name": "stderr",
     "output_type": "stream",
     "text": [
      " * Running on http://127.0.0.1:5000/ (Press CTRL+C to quit)\n",
      "ERROR -1 2104 Market data farm connection is OK:usfarm.nj\n",
      "127.0.0.1 - - [13/Jul/2020 23:47:18] \"POST /webhook HTTP/1.1\" 200 -\n",
      "ERROR -1 2104 Market data farm connection is OK:usfuture\n",
      "ERROR -1 2104 Market data farm connection is OK:cashfarm\n",
      "ERROR -1 2104 Market data farm connection is OK:usfarm\n",
      "ERROR -1 2106 HMDS data farm connection is OK:ushmds\n",
      "ERROR -1 2158 Sec-def data farm connection is OK:secdefil\n"
     ]
    },
    {
     "name": "stdout",
     "output_type": "stream",
     "text": [
      "last order closed =  0\n",
      "b'${\"ticker\":\"ES\", \"price\":3000}@initiate!1' -1 -1 -1 0\n",
      "The next valid order id is:  584\n",
      "\n",
      "good connection to account...\n",
      "\n",
      "model initiated\n",
      "Still waiting for previous order to process...\n",
      "\n",
      "    ONLY CLOSING OR RESET ORDERS ALLOWED      \n",
      "the a count is:  0\n"
     ]
    },
    {
     "name": "stderr",
     "output_type": "stream",
     "text": [
      "ERROR -1 2104 Market data farm connection is OK:usfarm.nj\n",
      "ERROR -1 2104 Market data farm connection is OK:usfuture\n",
      "ERROR -1 2104 Market data farm connection is OK:cashfarm\n",
      "ERROR -1 2104 Market data farm connection is OK:usfarm\n",
      "ERROR -1 2106 HMDS data farm connection is OK:ushmds\n",
      "ERROR -1 2158 Sec-def data farm connection is OK:secdefil\n"
     ]
    },
    {
     "name": "stdout",
     "output_type": "stream",
     "text": [
      "last order closed =  0\n",
      "b'${\"ticker\":\"ES\", \"price\":3151}@short_willr_1 sell! 1' -1 14 -1 -1\n",
      "The next valid order id is:  584\n",
      "\n",
      "good connection to account...\n",
      "\n",
      "NO ORDER IN QUEUE\n",
      "Order sent:  LMT  SELL  on  ES  202009 @  3151\n",
      "\n",
      "#########################################\n",
      "###### YOU ARE IN A SELL POSITION ######\n",
      "#########################################\n",
      "OpenOrder. PermId:  459075941 ClientId: 123  OrderId: 584 Account: DU2258209 Symbol: ES SecType: FUT Exchange: GLOBEX Action: SELL OrderType: LMT TotalQty: 1.0 CashQty: 0.0 LmtPrice: 3151.0 AuxPrice: 0.0 Status: Submitted\n"
     ]
    },
    {
     "name": "stderr",
     "output_type": "stream",
     "text": [
      "127.0.0.1 - - [13/Jul/2020 23:49:03] \"POST /webhook HTTP/1.1\" 200 -\n"
     ]
    },
    {
     "name": "stdout",
     "output_type": "stream",
     "text": [
      "resetting a\n",
      "the a count is:  0\n"
     ]
    },
    {
     "name": "stderr",
     "output_type": "stream",
     "text": [
      "ERROR -1 2104 Market data farm connection is OK:usfarm.nj\n",
      "ERROR -1 2104 Market data farm connection is OK:usfuture\n",
      "ERROR -1 2104 Market data farm connection is OK:cashfarm\n",
      "ERROR -1 2104 Market data farm connection is OK:usfarm\n",
      "ERROR -1 2106 HMDS data farm connection is OK:ushmds\n",
      "ERROR -1 2158 Sec-def data farm connection is OK:secdefil\n"
     ]
    },
    {
     "name": "stdout",
     "output_type": "stream",
     "text": [
      "CLOSING ORDER\n",
      "the a count is:  1\n",
      "last order closed =  0\n",
      "b'${\"ticker\":\"ES\", \"price\":3150}@long_willr_1 buy! 2' 13 -1 -1 -1\n",
      "The next valid order id is:  585\n",
      "\n",
      "good connection to account...\n",
      "\n",
      "NO ORDER IN QUEUE\n",
      "Order sent:  LMT  BUY  on  ES  202009 @  3150\n",
      "\n",
      "#########################################\n",
      "###### YOU ARE IN A BUY POSITION ######\n",
      "#########################################\n",
      "OpenOrder. PermId:  459075942 ClientId: 123  OrderId: 585 Account: DU2258209 Symbol: ES SecType: FUT Exchange: GLOBEX Action: BUY OrderType: LMT TotalQty: 1.0 CashQty: 0.0 LmtPrice: 3150.0 AuxPrice: 0.0 Status: PreSubmitted\n",
      "OpenOrder. PermId:  459075942 ClientId: 123  OrderId: 585 Account: DU2258209 Symbol: ES SecType: FUT Exchange: GLOBEX Action: BUY OrderType: LMT TotalQty: 1.0 CashQty: 0.0 LmtPrice: 3150.0 AuxPrice: 0.0 Status: Filled\n",
      "OpenOrder. PermId:  459075942 ClientId: 123  OrderId: 585 Account: DU2258209 Symbol: ES SecType: FUT Exchange: GLOBEX Action: BUY OrderType: LMT TotalQty: 1.0 CashQty: 0.0 LmtPrice: 3150.0 AuxPrice: 0.0 Status: Filled\n"
     ]
    },
    {
     "name": "stderr",
     "output_type": "stream",
     "text": [
      "127.0.0.1 - - [13/Jul/2020 23:53:03] \"POST /webhook HTTP/1.1\" 200 -\n"
     ]
    },
    {
     "name": "stdout",
     "output_type": "stream",
     "text": [
      "resetting a\n",
      "the a count is:  0\n"
     ]
    },
    {
     "name": "stderr",
     "output_type": "stream",
     "text": [
      "ERROR -1 2104 Market data farm connection is OK:usfarm.nj\n",
      "ERROR -1 2104 Market data farm connection is OK:usfuture\n",
      "ERROR -1 2104 Market data farm connection is OK:cashfarm\n",
      "ERROR -1 2104 Market data farm connection is OK:usfarm\n",
      "ERROR -1 2106 HMDS data farm connection is OK:ushmds\n",
      "ERROR -1 2158 Sec-def data farm connection is OK:secdefil\n"
     ]
    },
    {
     "name": "stdout",
     "output_type": "stream",
     "text": [
      "last order closed =  1\n",
      "b'${\"ticker\":\"ES\", \"price\":3150}@short_willr_1 sell! 1' -1 14 -1 -1\n",
      "The next valid order id is:  586\n",
      "CLOSING ORDER\n",
      "the a count is: \n",
      "good connection to account...\n",
      "\n",
      "NO ORDER IN QUEUE\n",
      "Order sent:  LMT  1\n",
      "last order closed =  1\n",
      "b'${\"ticker\":\"ES\", \"price\":3150}@closing sell! 1' -1 8 0 -1\n",
      " SELL  on  ES  202009 @  3150\n",
      "\n",
      "#########################################\n",
      "###### YOU ARE IN A SELL POSITION ######\n",
      "#########################################\n"
     ]
    },
    {
     "name": "stderr",
     "output_type": "stream",
     "text": [
      "127.0.0.1 - - [13/Jul/2020 23:57:01] \"POST /webhook HTTP/1.1\" 200 -\n"
     ]
    },
    {
     "name": "stdout",
     "output_type": "stream",
     "text": [
      "resetting a\n",
      "the a count is:  0\n"
     ]
    },
    {
     "name": "stderr",
     "output_type": "stream",
     "text": [
      "ERROR -1 2104 Market data farm connection is OK:usfarm.nj\n",
      "ERROR -1 2104 Market data farm connection is OK:usfuture\n",
      "ERROR -1 2104 Market data farm connection is OK:cashfarm\n",
      "ERROR -1 2104 Market data farm connection is OK:usfarm\n"
     ]
    },
    {
     "name": "stdout",
     "output_type": "stream",
     "text": [
      "CLOSING ORDER\n",
      "the a count is:  1\n",
      "last order closed =  0\n",
      "b'${\"ticker\":\"ES\", \"price\":3150}@long_willr_1 buy! 2' 13 -1 -1 -1\n",
      "The next valid order id is:  587\n",
      "\n",
      "good connection to account...\n",
      "\n",
      "NO ORDER IN QUEUE\n",
      "Order sent:  LMT  BUY  on  ES  202009 @  3150\n",
      "\n",
      "#########################################\n",
      "###### YOU ARE IN A BUY POSITION ######\n",
      "#########################################\n"
     ]
    },
    {
     "name": "stderr",
     "output_type": "stream",
     "text": [
      "ERROR -1 2106 HMDS data farm connection is OK:ushmds\n",
      "ERROR -1 2158 Sec-def data farm connection is OK:secdefil\n"
     ]
    },
    {
     "name": "stdout",
     "output_type": "stream",
     "text": [
      "OpenOrder. PermId:  459075944 ClientId: 123  OrderId: 587 Account: DU2258209 Symbol: ES SecType: FUT Exchange: GLOBEX Action: BUY OrderType: LMT TotalQty: 1.0 CashQty: 0.0 LmtPrice: 3150.0 AuxPrice: 0.0 Status: Submitted\n"
     ]
    },
    {
     "name": "stderr",
     "output_type": "stream",
     "text": [
      "127.0.0.1 - - [14/Jul/2020 00:11:03] \"POST /webhook HTTP/1.1\" 200 -\n"
     ]
    },
    {
     "name": "stdout",
     "output_type": "stream",
     "text": [
      "resetting a\n",
      "the a count is:  0\n"
     ]
    },
    {
     "name": "stderr",
     "output_type": "stream",
     "text": [
      "ERROR -1 2104 Market data farm connection is OK:usfarm.nj\n",
      "ERROR -1 2104 Market data farm connection is OK:usfuture\n",
      "ERROR -1 2104 Market data farm connection is OK:cashfarm\n",
      "ERROR -1 2104 Market data farm connection is OK:usfarm\n",
      "ERROR -1 2106 HMDS data farm connection is OK:ushmds\n"
     ]
    },
    {
     "name": "stdout",
     "output_type": "stream",
     "text": [
      "last order closed =  1\n",
      "b'${\"ticker\":\"ES\", \"price\":3148.75}@short_willr_1 sell! 1' -1 14 -1 -1\n",
      "CLOSING ORDER\n",
      "the a count is:  1\n",
      "last order closed =  1\n",
      "b'${\"ticker\":\"ES\", \"price\":3148.75}@closing sell! 1' -1 8 0 -1\n",
      "The next valid order id is:  588\n",
      "\n",
      "good connection to account...\n",
      "\n",
      "NO ORDER IN QUEUE\n",
      "Order sent:  LMT  SELL  on  ES  202009 @  3148.75"
     ]
    },
    {
     "name": "stderr",
     "output_type": "stream",
     "text": [
      "ERROR -1 2158 Sec-def data farm connection is OK:secdefil\n"
     ]
    },
    {
     "name": "stdout",
     "output_type": "stream",
     "text": [
      "\n",
      "\n",
      "#########################################\n",
      "###### YOU ARE IN A SELL POSITION ######\n",
      "#########################################\n"
     ]
    },
    {
     "name": "stderr",
     "output_type": "stream",
     "text": [
      "127.0.0.1 - - [14/Jul/2020 00:18:02] \"POST /webhook HTTP/1.1\" 200 -\n"
     ]
    },
    {
     "name": "stdout",
     "output_type": "stream",
     "text": [
      "resetting a\n",
      "the a count is:  0\n"
     ]
    },
    {
     "name": "stderr",
     "output_type": "stream",
     "text": [
      "ERROR -1 2104 Market data farm connection is OK:usfarm.nj\n",
      "ERROR -1 2104 Market data farm connection is OK:usfuture\n"
     ]
    },
    {
     "name": "stdout",
     "output_type": "stream",
     "text": [
      "CLOSING ORDER\n",
      "the a count is:  1\n",
      "last order closed =  0\n",
      "b'${\"ticker\":\"ES\", \"price\":3148}@long_willr_1 buy! 2' 13 -1 -1 -1\n",
      "OpenOrder. PermId:  459075945 ClientId: 123  OrderId: 588 Account: DU2258209 Symbol: ES SecType: FUT Exchange: GLOBEX Action: SELL OrderType: LMT TotalQty: 1.0 CashQty: 0.0 LmtPrice: 3148.75 AuxPrice: 0.0 Status: PreSubmitted\n",
      "The next valid order id is:  589\n",
      "\n",
      "good connection to account...\n",
      "\n",
      "\n",
      "THIS IS THE CURRENT QUEUE ORDER STATUS:  PreSubmitted\n",
      "\n",
      "THIS IS A HUNG ORDER\n",
      "hung order number:  2 the a count is:  1\n",
      "cancelling all orders\n",
      "Still waiting for previous order to process...\n"
     ]
    },
    {
     "name": "stderr",
     "output_type": "stream",
     "text": [
      "ERROR -1 2104 Market data farm connection is OK:cashfarm\n",
      "127.0.0.1 - - [14/Jul/2020 00:32:02] \"POST /webhook HTTP/1.1\" 200 -\n",
      "ERROR -1 2104 Market data farm connection is OK:usfarm\n",
      "ERROR -1 2106 HMDS data farm connection is OK:ushmds\n"
     ]
    },
    {
     "name": "stdout",
     "output_type": "stream",
     "text": [
      "\n",
      "    ONLY CLOSING OR RESET ORDERS ALLOWED      \n",
      "the a count is:  1\n"
     ]
    },
    {
     "name": "stderr",
     "output_type": "stream",
     "text": [
      "ERROR -1 2158 Sec-def data farm connection is OK:secdefil\n",
      "ERROR -1 2104 Market data farm connection is OK:usfarm.nj\n",
      "ERROR -1 2104 Market data farm connection is OK:usfuture\n",
      "127.0.0.1 - - [14/Jul/2020 00:38:00] \"POST /webhook HTTP/1.1\" 200 -\n",
      "ERROR -1 2104 Market data farm connection is OK:cashfarm\n"
     ]
    },
    {
     "name": "stdout",
     "output_type": "stream",
     "text": [
      "CLOSING ORDER\n",
      "the a count is:  2\n",
      "last order closed =  0\n",
      "b'${\"ticker\":\"ES\", \"price\":3148.25}@closing sell! 1' -1 8 0 -1\n",
      "The next valid order id is:  589\n",
      "\n",
      "good connection to account...\n",
      "\n",
      "Waiting for reset order..\n",
      "Still waiting for previous order to process...\n",
      "\n",
      "    ONLY CLOSING OR RESET ORDERS ALLOWED      \n",
      "the a count is:  2\n"
     ]
    },
    {
     "name": "stderr",
     "output_type": "stream",
     "text": [
      "ERROR -1 2104 Market data farm connection is OK:usfarm\n",
      "ERROR -1 2106 HMDS data farm connection is OK:ushmds\n",
      "ERROR -1 2158 Sec-def data farm connection is OK:secdefil\n",
      "ERROR -1 2104 Market data farm connection is OK:usfarm.nj\n",
      "ERROR -1 2104 Market data farm connection is OK:usfuture\n"
     ]
    },
    {
     "name": "stdout",
     "output_type": "stream",
     "text": [
      "last order closed =  0\n",
      "b'${\"ticker\":\"ES\", \"price\":3147}@long_willr_1 buy! 1' 13 -1 -1 -1\n",
      "The next valid order id is:  589\n",
      "\n",
      "good connection to account...\n",
      "\n",
      "NO ORDER IN QUEUE\n",
      "Order sent:  LMT  BUY  on  ES "
     ]
    },
    {
     "name": "stderr",
     "output_type": "stream",
     "text": [
      "ERROR -1 2104 Market data farm connection is OK:cashfarm\n",
      "ERROR -1 2104 Market data farm connection is OK:usfarm\n",
      "ERROR -1 2106 HMDS data farm connection is OK:ushmds\n",
      "ERROR -1 2158 Sec-def data farm connection is OK:secdefil\n"
     ]
    },
    {
     "name": "stdout",
     "output_type": "stream",
     "text": [
      " 202009 @  3147\n",
      "\n",
      "#########################################\n",
      "###### YOU ARE IN A BUY POSITION ######\n",
      "#########################################\n",
      "OpenOrder. PermId:  459075947 ClientId: 123  OrderId: 589 Account: DU2258209 Symbol: ES SecType: FUT Exchange: GLOBEX Action: BUY OrderType: LMT TotalQty: 1.0 CashQty: 0.0 LmtPrice: 3147.0 AuxPrice: 0.0 Status: Submitted\n"
     ]
    },
    {
     "name": "stderr",
     "output_type": "stream",
     "text": [
      "127.0.0.1 - - [14/Jul/2020 00:43:05] \"POST /webhook HTTP/1.1\" 200 -\n"
     ]
    },
    {
     "name": "stdout",
     "output_type": "stream",
     "text": [
      "resetting a\n",
      "the a count is:  0\n"
     ]
    },
    {
     "name": "stderr",
     "output_type": "stream",
     "text": [
      "ERROR -1 2104 Market data farm connection is OK:usfarm.nj\n",
      "ERROR -1 2104 Market data farm connection is OK:usfuture\n",
      "ERROR -1 2104 Market data farm connection is OK:cashfarm\n",
      "ERROR -1 2104 Market data farm connection is OK:usfarm\n"
     ]
    },
    {
     "name": "stdout",
     "output_type": "stream",
     "text": [
      "CLOSING ORDER\n",
      "the a count is:  1\n",
      "last order closed =  0\n",
      "b'${\"ticker\":\"ES\", \"price\":3148.25}@closing sell! 1' -1 8 0 -1\n",
      "The next valid order id is:  590\n",
      "\n",
      "good connection to account...\n",
      "\n",
      "NO ORDER IN QUEUE\n",
      "Order sent:  LMT  SELL  on  ES  202009 @  3148.25\n",
      "\n",
      "#########################################\n",
      "###### YOU ARE IN A SELL"
     ]
    },
    {
     "name": "stderr",
     "output_type": "stream",
     "text": [
      "ERROR -1 2106 HMDS data farm connection is OK:ushmds\n",
      "ERROR -1 2158 Sec-def data farm connection is OK:secdefil\n"
     ]
    },
    {
     "name": "stdout",
     "output_type": "stream",
     "text": [
      " POSITION ######\n",
      "#########################################\n",
      "OpenOrder. PermId:  459075948 ClientId: 123  OrderId: 590 Account: DU2258209 Symbol: ES SecType: FUT Exchange: GLOBEX Action: SELL OrderType: LMT TotalQty: 1.0 CashQty: 0.0 LmtPrice: 3148.25 AuxPrice: 0.0 Status: Submitted\n"
     ]
    },
    {
     "name": "stderr",
     "output_type": "stream",
     "text": [
      "127.0.0.1 - - [14/Jul/2020 00:46:03] \"POST /webhook HTTP/1.1\" 200 -\n"
     ]
    },
    {
     "name": "stdout",
     "output_type": "stream",
     "text": [
      "resetting a\n",
      "the a count is:  0\n"
     ]
    },
    {
     "name": "stderr",
     "output_type": "stream",
     "text": [
      "ERROR -1 2104 Market data farm connection is OK:usfarm.nj\n"
     ]
    },
    {
     "name": "stdout",
     "output_type": "stream",
     "text": [
      "last order closed =  1\n",
      "b'${\"ticker\":\"ES\", \"price\":3150.75}@short_willr_1 sell! 1' -1 14 -1 -1\n",
      "The next valid order id is:  591\n",
      "\n",
      "good connection to account...\n",
      "\n",
      "NO ORDER IN QUEUE\n",
      "Order sent:  "
     ]
    },
    {
     "name": "stderr",
     "output_type": "stream",
     "text": [
      "ERROR -1 2104 Market data farm connection is OK:usfuture\n",
      "ERROR -1 2104 Market data farm connection is OK:cashfarm\n",
      "ERROR -1 2104 Market data farm connection is OK:usfarm\n",
      "ERROR -1 2106 HMDS data farm connection is OK:ushmds\n",
      "ERROR -1 2158 Sec-def data farm connection is OK:secdefil\n"
     ]
    },
    {
     "name": "stdout",
     "output_type": "stream",
     "text": [
      "LMT  SELL  on  ES  202009 @  3150.75\n",
      "\n",
      "#########################################\n",
      "###### YOU ARE IN A SELL POSITION ######\n",
      "#########################################\n",
      "OpenOrder. PermId:  459075949 ClientId: 123  OrderId: 591 Account: DU2258209 Symbol: ES SecType: FUT Exchange: GLOBEX Action: SELL OrderType: LMT TotalQty: 1.0 CashQty: 0.0 LmtPrice: 3150.75 AuxPrice: 0.0 Status: PreSubmitted\n",
      "OpenOrder. PermId:  459075949 ClientId: 123  OrderId: 591 Account: DU2258209 Symbol: ES SecType: FUT Exchange: GLOBEX Action: SELL OrderType: LMT TotalQty: 1.0 CashQty: 0.0 LmtPrice: 3150.75 AuxPrice: 0.0 Status: Filled\n",
      "OpenOrder. PermId:  459075949 ClientId: 123  OrderId: 591 Account: DU2258209 Symbol: ES SecType: FUT Exchange: GLOBEX Action: SELL OrderType: LMT TotalQty: 1.0 CashQty: 0.0 LmtPrice: 3150.75 AuxPrice: 0.0 Status: Filled\n"
     ]
    },
    {
     "name": "stderr",
     "output_type": "stream",
     "text": [
      "127.0.0.1 - - [14/Jul/2020 01:03:03] \"POST /webhook HTTP/1.1\" 200 -\n"
     ]
    },
    {
     "name": "stdout",
     "output_type": "stream",
     "text": [
      "resetting a\n",
      "the a count is:  0\n",
      "CLOSING ORDER\n",
      "the a count is:  1\n",
      "last order closed =  0\n",
      "b'${\"ticker\":\"ES\", \"price\":3151}@long_willr_1 buy! 2' 13 -1 -1 -1\n"
     ]
    },
    {
     "name": "stderr",
     "output_type": "stream",
     "text": [
      "ERROR -1 2104 Market data farm connection is OK:usfarm.nj\n",
      "ERROR -1 2104 Market data farm connection is OK:usfuture\n",
      "ERROR -1 2104 Market data farm connection is OK:cashfarm\n",
      "ERROR -1 2104 Market data farm connection is OK:usfarm\n",
      "ERROR -1 2106 HMDS data farm connection is OK:ushmds\n"
     ]
    },
    {
     "name": "stdout",
     "output_type": "stream",
     "text": [
      "The next valid order id is:  592\n",
      "\n",
      "good connection to account...\n",
      "\n",
      "NO ORDER IN QUEUE\n",
      "Order sent:  LMT  BUY  on  ES  202009 @  3151\n",
      "\n",
      "#########################################\n",
      "###### YOU ARE IN A BUY POSITION ######\n",
      "#########################################\n"
     ]
    },
    {
     "name": "stderr",
     "output_type": "stream",
     "text": [
      "ERROR -1 2158 Sec-def data farm connection is OK:secdefil\n"
     ]
    },
    {
     "name": "stdout",
     "output_type": "stream",
     "text": [
      "OpenOrder. PermId:  459075950 ClientId: 123  OrderId: 592 Account: DU2258209 Symbol: ES SecType: FUT Exchange: GLOBEX Action: BUY OrderType: LMT TotalQty: 1.0 CashQty: 0.0 LmtPrice: 3151.0 AuxPrice: 0.0 Status: PreSubmitted\n",
      "OpenOrder. PermId:  459075950 ClientId: 123  OrderId: 592 Account: DU2258209 Symbol: ES SecType: FUT Exchange: GLOBEX Action: BUY OrderType: LMT TotalQty: 1.0 CashQty: 0.0 LmtPrice: 3151.0 AuxPrice: 0.0 Status: Filled\n",
      "OpenOrder. PermId:  459075950 ClientId: 123  OrderId: 592 Account: DU2258209 Symbol: ES SecType: FUT Exchange: GLOBEX Action: BUY OrderType: LMT TotalQty: 1.0 CashQty: 0.0 LmtPrice: 3151.0 AuxPrice: 0.0 Status: Filled\n"
     ]
    },
    {
     "name": "stderr",
     "output_type": "stream",
     "text": [
      "127.0.0.1 - - [14/Jul/2020 01:08:02] \"POST /webhook HTTP/1.1\" 200 -\n"
     ]
    },
    {
     "name": "stdout",
     "output_type": "stream",
     "text": [
      "resetting a\n",
      "the a count is:  0\n"
     ]
    }
   ],
   "source": [
    "from flask import Flask, request, abort\n",
    "\n",
    "import actions\n",
    "import auth\n",
    "import flask\n",
    "import pandas as pd\n",
    "import ast\n",
    "import json\n",
    "\n",
    "import threading\n",
    "import time\n",
    "\n",
    "from ibapi.client import EClient\n",
    "from ibapi.wrapper import EWrapper\n",
    "from ibapi.contract import Contract\n",
    "from ibapi.order import *\n",
    "\n",
    "\n",
    "# Create Flask object called app.\n",
    "app = Flask(__name__)\n",
    "\n",
    "\n",
    "# Create root to easily let us know its on/working.\n",
    "@app.route('/')\n",
    "def root():\n",
    "    return 'online'\n",
    "\n",
    "\n",
    "@app.route('/webhook', methods=['POST'])\n",
    "def webhook():\n",
    "    if request.method == 'POST':\n",
    "        try:\n",
    "            global a\n",
    "            global order_status\n",
    "            global hung_order\n",
    "            global sent_order\n",
    "            global last_order_closed\n",
    "            \n",
    "            the_list = ['PendingSubmit',\n",
    "                        'PendingCancel',\n",
    "                        'PreSubmitted', \n",
    "                        'Submitted', \n",
    "                        'ApiCancelled', \n",
    "                        'ApiPending']\n",
    "\n",
    "            tester = str(request.get_data())\n",
    "            \n",
    "            ### Creates a byte object instead of a dict from the literal eval \n",
    "            ### This is an issue with TradingView's alert data types ###\n",
    "            data = str(ast.literal_eval(str(tester)))\n",
    "            \n",
    "            \n",
    "            ##############################################\n",
    "            ### Parses out data from TradingView alert ###\n",
    "            ##############################################\n",
    "            \n",
    "            sep = '@'\n",
    "            literal = data.split(sep, 1)[0]\n",
    "\n",
    "            sep_2 = '$'\n",
    "            literal = literal.split(sep_2, 1)[1]\n",
    "            literal = ast.literal_eval(str(literal))\n",
    "\n",
    "            type_purchase = data.split(sep, 1)[1]\n",
    "\n",
    "            sell = type_purchase.find('sell')\n",
    "            buy = type_purchase.find('buy')\n",
    "            closing = type_purchase.find('closing')\n",
    "            initiator = type_purchase.find('initiate')\n",
    "            closer = type_purchase.find('2')\n",
    "            ##############################################\n",
    "            \n",
    "            \n",
    "            \n",
    "            ###################################################\n",
    "            ### Initiates variables and  allocates buy types###\n",
    "            ###################################################\n",
    "            \n",
    "            if initiator == 0:\n",
    "                a = 0\n",
    "                order_status = 0\n",
    "                hung_order = 0\n",
    "                last_order_closed = 0\n",
    "            \n",
    "            if buy >= 0:\n",
    "                literal['type'] = 'BUY'\n",
    "                if (closing == 0) or (closer > 0):\n",
    "                    print('CLOSING ORDER')\n",
    "                    a = a+1\n",
    "                    print('the a count is: ', a)\n",
    "\n",
    "            else: \n",
    "                if sell > 0:\n",
    "                    literal['type'] = 'SELL'\n",
    "                    if (closing == 0) or (closer > 0):\n",
    "                        print('CLOSING ORDER') \n",
    "                        a = a+1\n",
    "                        print('the a count is: ', a)\n",
    "                        \n",
    "            print('last order closed = ', last_order_closed)\n",
    "                \n",
    "            print(data, buy, sell, closing,initiator)\n",
    "            data = literal\n",
    "            ###################################################\n",
    "            \n",
    "            \n",
    "            ##################################################\n",
    "            ########## Interactive Brokers Functions #########\n",
    "            ##################################################\n",
    "\n",
    "            class IBapi(EWrapper, EClient):\n",
    "                def __init__(self):\n",
    "                    EClient.__init__(self, self)\n",
    "\n",
    "                def nextValidId(self, orderId: int):\n",
    "                    super().nextValidId(orderId)\n",
    "                    self.nextorderId = orderId\n",
    "                    print('The next valid order id is: ', self.nextorderId)\n",
    "                    \n",
    "                def openOrder(self, orderId: int, contract: float, order: float,orderState: str):\n",
    "                    super().openOrder(orderId, contract, order, orderState)\n",
    "                    self.fill_status = orderState.status\n",
    "                    print(\"OpenOrder. PermId: \", order.permId, \"ClientId:\", order.clientId, \" OrderId:\", orderId, \n",
    "                   \"Account:\", order.account, \"Symbol:\", contract.symbol, \"SecType:\", contract.secType,\n",
    "                   \"Exchange:\", contract.exchange, \"Action:\", order.action, \"OrderType:\", order.orderType,\n",
    "                   \"TotalQty:\", order.totalQuantity, \"CashQty:\", order.cashQty, \n",
    "                   \"LmtPrice:\", order.lmtPrice, \"AuxPrice:\", order.auxPrice, \"Status:\", orderState.status)\n",
    "     \n",
    "                    order.contract = contract\n",
    "\n",
    "\n",
    "            def run_loop():\n",
    "                app_ib.run()\n",
    "\n",
    "            #Function to create FX Order contract\n",
    "            def contract_order(symbol):\n",
    "                contract = Contract()\n",
    "                contract.symbol = symbol\n",
    "                contract.secType = 'FUT'\n",
    "                contract.exchange = 'GLOBEX'\n",
    "                contract.currency = 'USD'\n",
    "                contract.lastTradeDateOrContractMonth  = '202009'\n",
    "                return contract\n",
    "            \n",
    "            ##################################################\n",
    "\n",
    "            \n",
    "            ##################################################\n",
    "            ########## Establishes Connections ###############\n",
    "            ##################################################            \n",
    "            \n",
    "            app_ib = IBapi()\n",
    "            app_ib.connect('127.0.0.1', 7497, 123)\n",
    "\n",
    "            app_ib.nextorderId = None\n",
    "            app_ib.fill_status = None\n",
    "\n",
    "            ### Start the socket in a thread ###\n",
    "            \n",
    "            api_thread = threading.Thread(target=run_loop, daemon=True)\n",
    "            api_thread.start()\n",
    "            \n",
    "            #########################################################      \n",
    "            ###### Check if the API is connected via orderid ########\n",
    "            #########################################################\n",
    "\n",
    "            while True:\n",
    "                if isinstance(app_ib.nextorderId, int):\n",
    "                    print('')\n",
    "                    print('good connection to account...')\n",
    "                    print('')\n",
    "                    break\n",
    "                    \n",
    "                    \n",
    "            #########################################################      \n",
    "            ### Checks the order queue for any outstanding orders ###\n",
    "            ###              Begins Logic Looping                 ###\n",
    "            #########################################################\n",
    "            \n",
    "            ### Checks queue for order status and hung orders in queue ###\n",
    "            \n",
    "            if (app_ib.fill_status in the_list)&(a<3):\n",
    "                print('')\n",
    "                print('THIS IS THE CURRENT QUEUE ORDER STATUS: ', app_ib.fill_status)\n",
    "                print('')\n",
    "                order_status = 0\n",
    "                hung_order = hung_order + 1\n",
    "                \n",
    "                ### If a closing order, add 2 to a ###\n",
    "                if closer < 0:\n",
    "                    if closing < 0:\n",
    "                        print('adding 2 to a')\n",
    "                        a = a + 2\n",
    "                    \n",
    "                ### If the order is hung in the queue, then cancel the order coming in ###\n",
    "                ### Note: This only applies to orders that are entering orders, not closing ###\n",
    "                if (hung_order >= 1) & (hung_order <2):\n",
    "                    print('THIS IS A HUNG ORDER')\n",
    "                    hung_order = hung_order + 1\n",
    "                    print('hung order number: ', hung_order, 'the a count is: ', a)\n",
    "    \n",
    "                    ### Cancels all orders if an entering order is hung ###\n",
    "                    if (hung_order >= 2) & (a <= 1):\n",
    "                        print('cancelling all orders')\n",
    "                        hung_order = 0\n",
    "                        \n",
    "                        app_ib.reqGlobalCancel()\n",
    "                        app_ib.disconnect()\n",
    "                        \n",
    "            ### Sets the order status at 0 ###\n",
    "            if initiator >= 0:\n",
    "                order_status = 0\n",
    "                print('model initiated')\n",
    "           \n",
    "        \n",
    "            elif(app_ib.fill_status not in the_list):\n",
    "                \n",
    "                ### If the order is coming off of a hung status, only allows reset orders (non-closing orders) ###\n",
    "                if (((closing >= 0)&(a>1)) | ((last_order_closed == 1) & ((closing >= 0)|(closer >=0)))):\n",
    "                    print('Waiting for reset order..')\n",
    "                    order_status = 0\n",
    "                else:\n",
    "                    print('NO ORDER IN QUEUE')\n",
    "                    order_status = 1\n",
    "\n",
    "            ### If a closing order is hung, cancels all incoming orders ###\n",
    "            elif(hung_order >= 2) & (a > 1):\n",
    "                if (app_ib.fill_status in the_list):\n",
    "                    print('cancelling current order #: ', app_ib.nextorderId)\n",
    "                    app_ib.cancelOrder(app_ib.nextorderId)\n",
    "\n",
    "            ### If all gates are passed, allows closing orders through ###\n",
    "            elif (closing >= 0) and (a < 1):\n",
    "                print('')\n",
    "                print('THIS IS A CLOSING SALE')\n",
    "                order_status = 1\n",
    "                print('The a count is :', a)\n",
    "                print('second')\n",
    "                \n",
    "    \n",
    "            ### Sends an order if all previous criteria are met ###\n",
    "            if (order_status == 1)&(initiator < 0):\n",
    "                \n",
    "                #Creates order object\n",
    "                order = Order()\n",
    "                ticker = data['ticker']\n",
    "                contract_expr = '202009' ########### This will change as contract expiration changes ###########\n",
    "                order.action = data['type']\n",
    "                order.totalQuantity = 1\n",
    "                order.orderType = 'LMT'\n",
    "                order.lmtPrice = str(data['price'])\n",
    "\n",
    "                #Places order\n",
    "                app_ib.placeOrder(app_ib.nextorderId, contract_order(ticker), order)\n",
    "                app_ib.nextorderId += 1\n",
    "                print('Order sent: ', order.orderType, '', order.action, '','on ', ticker, '', contract_expr, '@ ', order.lmtPrice)\n",
    "                print('')\n",
    "                print('#########################################')\n",
    "                print('###### YOU ARE IN A', data['type'].upper(),'POSITION ######')\n",
    "                print('#########################################')\n",
    "                hung_order = 0\n",
    "                time.sleep(1)\n",
    "                \n",
    "                \n",
    "                print('resetting a')\n",
    "                a = 0\n",
    "                \n",
    "                if (closing >= 0) |(closer > 0):\n",
    "                    last_order_closed = 1\n",
    "                else: \n",
    "                    last_order_closed = 0\n",
    "                    \n",
    "                print('the a count is: ', a)\n",
    "                app_ib.disconnect()\n",
    "\n",
    "      \n",
    "            else: \n",
    "                print('Still waiting for previous order to process...')\n",
    "                print('')\n",
    "                print('    ONLY CLOSING OR RESET ORDERS ALLOWED      ')\n",
    "                print('the a count is: ', a)\n",
    "                app_ib.disconnect()\n",
    "\n",
    "        ######################################### \n",
    "        ######################################### \n",
    "\n",
    "        except:\n",
    "            traceback.print_exc(file=sys.stdout)     \n",
    "        return '', 200\n",
    "    \n",
    "if __name__ == '__main__':\n",
    "    app.run()\n",
    "            "
   ]
  },
  {
   "cell_type": "code",
   "execution_count": null,
   "metadata": {},
   "outputs": [],
   "source": [
    "    if request.method == 'POST':\n",
    "        try:           \n",
    "            #data.to_dict()longbuy\n",
    "            #data = json.loads(request.get_data(as_text=True))\n",
    "            #data = ast.literal_eval(request.get_data(as_text=True))\n",
    "            \n",
    "            #data = {'price':'3200', 'ticker':'RTY', 'type':'buy'}\n",
    "            ####### Defines IB functions to utilize #######\n",
    "\n",
    "            class IBapi(EWrapper, EClient):\n",
    "                def __init__(self):\n",
    "                    EClient.__init__(self, self)\n",
    "\n",
    "                def nextValidId(self, orderId: int):\n",
    "                    super().nextValidId(orderId)\n",
    "                    self.nextorderId = orderId\n",
    "                    print('The next valid order id is: ', self.nextorderId)\n",
    "\n",
    "            def run_loop():\n",
    "                app_ib.run()\n",
    "\n",
    "            #Function to create FX Order contract\n",
    "            def contract_order(symbol):\n",
    "                contract = Contract()\n",
    "                contract.symbol = symbol\n",
    "                contract.secType = 'FUT'\n",
    "                contract.exchange = 'GLOBEX'\n",
    "                contract.currency = 'USD'\n",
    "                contract.lastTradeDateOrContractMonth  = '202009'\n",
    "                return contract\n",
    "\n",
    "            ######################################  \n",
    "            ########## Sends BUY order  ##########\n",
    "            ######################################  \n",
    "            \n",
    "            app_ib = IBapi()\n",
    "            app_ib.connect('127.0.0.1', 7497, 123)\n",
    "\n",
    "            app_ib.nextorderId = None\n",
    "            print(app_ib.nextorderId)\n",
    "            #Start the socket in a thread\n",
    "            api_thread = threading.Thread(target=run_loop, daemon=True)\n",
    "            api_thread.start()\n",
    "\n",
    "            #Check if the API is connected via orderid\n",
    "            while True:\n",
    "                if isinstance(app_ib.nextorderId, int):\n",
    "                    print('')\n",
    "                    print('good connection to account...')\n",
    "                    print('')\n",
    "                    break\n",
    "                else:\n",
    "                    print('waiting for connection')\n",
    "                    time.sleep(1)\n",
    "\n",
    "            #Create order object\n",
    "            order = Order()\n",
    "            ticker = 'ES'\n",
    "            contract_expr = '202009' ########### This will change as contract expiration changes ###########\n",
    "            order.action = 'buy'\n",
    "            order.totalQuantity = 1\n",
    "            order.orderType = 'LMT'\n",
    "            order.lmtPrice = '3088'\n",
    "\n",
    "            #Place order\n",
    "            app_ib.placeOrder(app_ib.nextorderId, contract_order(ticker), order)\n",
    "            app_ib.nextorderId += 1\n",
    "            print('Order sent: ', order.orderType, '', order.action, '','on ', ticker, '', contract_expr, '@ ', order.lmtPrice)\n",
    "            print('')\n",
    "            print('################################################')\n",
    "            print('###### YOU HAVE PURCHASED 100 LIVE CATTLE ######')\n",
    "            print('################################################')\n",
    "            app_ib.disconnect()\n",
    "\n",
    "            ######################################### \n",
    "            ######################################### "
   ]
  },
  {
   "cell_type": "code",
   "execution_count": null,
   "metadata": {},
   "outputs": [],
   "source": [
    "the_list = ['PendingSubmit',\n",
    "'PendingCancel',\n",
    "'PreSubmitted', \n",
    "'Submitted', \n",
    "'ApiCancelled', \n",
    "'ApiPending']\n"
   ]
  },
  {
   "cell_type": "code",
   "execution_count": null,
   "metadata": {},
   "outputs": [],
   "source": [
    "## IB Order Status Strings\n",
    "  * **PendingSubmit**: indicates that you have transmitted the order, but have not yet received confirmation that it has been accepted by the order destination. \n",
    "  * **PendingCancel**: indicates that you have sent a request to cancel the order but have not yet received cancel confirmation from the order destination. At this point, your order is not confirmed canceled. It is not guaranteed that the cancellation will be successful. \n",
    "  * **PreSubmitted**: indicates that a simulated order type has been accepted by the IB system and that this order has yet to be elected. The order is held in the IB system until the election criteria are met. At that time the order is transmitted to the order destination as specified . \n",
    "  * **Submitted**: indicates that your order has been accepted by the system. \n",
    "  * **ApiCancelled**: after an order has been submitted and before it has been acknowledged, an API client client can request its cancelation, producing this state. \n",
    "  * **ApiPending**: undocumented; heard it exists from the e-mail group.\n",
    "  * **Cancelled**: indicates that the balance of your order has been confirmed canceled by the IB system. This could occur unexpectedly when IB or the destination has rejected your order. \n",
    "  * **Filled**: indicates that the order has been completely filled. Market orders executions will not always trigger a Filled status. \n",
    "  * **Inactive**: indicates that the order was received by the system but is no longer active because it was rejected or canceled.\n"
   ]
  }
 ],
 "metadata": {
  "kernelspec": {
   "display_name": "Python 3",
   "language": "python",
   "name": "python3"
  },
  "language_info": {
   "codemirror_mode": {
    "name": "ipython",
    "version": 3
   },
   "file_extension": ".py",
   "mimetype": "text/x-python",
   "name": "python",
   "nbconvert_exporter": "python",
   "pygments_lexer": "ipython3",
   "version": "3.7.4"
  }
 },
 "nbformat": 4,
 "nbformat_minor": 2
}
